{
 "cells": [
  {
   "cell_type": "markdown",
   "metadata": {},
   "source": [
    "## Project\n",
    "With this project we aim to implement two data mining methods to predict ancestry based on SNPs (Single Nucleotide Polymorphisms). The selection of SNPs to use are based on certain SNP sets from existing research, these are typically called AIM (Acestry Informative Markers).\n",
    "The first method we implement is a machine learning algorithm: Random Forest.\n",
    "\n",
    "## Data\n",
    "\n",
    "### VCF file\n",
    "The data is from the 1000 genomes project, it contains 2500 samples and 84.4 million SNPs. It is available in VCF (variant call format). This contains the following information:\n",
    "\n",
    "|CHROM|POS|ID|REF|ALT|QUAL|FILTER|INFO|FORMAT|NA00001|NA00002|NA00003|\n",
    "|-----|---|--|---|---|----|------|----|------|-------|-------|-------|\n",
    "|20|14370|rs6054257|G|A|29|PASS|NS=3|GT|0\\|0|1\\|0|1/1|\n",
    "|20|17330|rs3409304|T|A|3|q10|NS=3|GT|0\\|0|0\\|1|0/0|\n",
    "\n",
    "\n",
    "The columns relevent for us are:\n",
    " - ID: an id to index the features\n",
    " - NA00001, NA00002, ... : the sample genotypes, these are all the individual samples with the corresponding features (the genotypes) <br>\n",
    "\n",
    "So, on each row there is an individual feature, and from column 10 onward there are the genotypes listed per sample (separated by tab. <br>\n",
    "Few examples of the genotype format:\n",
    " - 0|1 \n",
    " - 0/1\n",
    " - 1|2\n",
    "    \n",
    "| : the genotypes are phased, the paternal and maternal alleles are listed in a particualar order (e.g.: paternal|maternal) <br>\n",
    "/ : the genotypes are unphased, the order or the alleles are not consistent. <br>\n",
    "0 : the reference allele, in the above example this is G. <br>\n",
    "1 : the alternative allele, in the above example this is A. <br>\n",
    "2 : the second alternative allele, this can go up to 6, but typically there is only one alternative allele. <br>\n",
    "    \n",
    "The individual samples in the vcf file (NA00001, NA00002, ...) have a certain ancestry, this is listed in a separate file\n",
    "\n",
    "### Sample file\n",
    "\n",
    "|Sample name|Sex|Biosample ID|Population code|Population name|Superpopulation code|Superpopulation name|Data collections|\n",
    "|-----------|---|------------|---------------|---------------|--------------------|--------------------|----------------|\n",
    "|NA00001|female|SAME123271|GBR|British|EUR|European|1000 Genomes on GRCh38,1000 Genomes phase 3 release,1000 Genomes phase 1 release,Geuvadis|\n",
    "|NA00002|male|SAME123268|GBR|British|EUR|European|1000 Genomes on GRCh38,1000 Genomes phase 3 release,1000 Genomes phase 1 release,Geuvadis|\n",
    "\n",
    "The columns relevant to us are: \n",
    " - Sample name: names corresponding to the sample names in the VCF file\n",
    " - (Super)population code. We can construct a model based on the Population code (country) or Superpopulation code (continent) to predict ancestry. <br>\n",
    "    \n",
    "Even though the population code is more specific, the superpopulation is much easier to accurately predict.\n",
    "\n",
    "\n",
    "### AIM files\n",
    "\n",
    "Before training the model, we needed to make a subselection from the 84.4 million SNPs. We have done this by searching for relevant papers concerning AIM sets developed to classify global ancestry. Many had a file containing the selected SNPs marked with rs IDs (unique SNP identifiers from dbSNP) available for download. This search resulted in 5 AIM files with various amounts of SNPs (100 to 400). Finally we extracted the genotypes from the 2500 individuals (samples) for these particular SNP sets (by rsID) by iterating through the 1000 Genomes vcf files and copying the relevant data to new vcf files.\n",
    "<br>\n",
    "\n",
    "### Results\n",
    "\n",
    "The Random Forest model performs with a baseline score of 96.85% (10k-fold cross validation) <br>\n",
    "Other scores can be found below (see classification report) <br><br>\n"
   ]
  },
  {
   "cell_type": "code",
   "execution_count": 2,
   "metadata": {},
   "outputs": [],
   "source": [
    "import gzip\n",
    "import pandas\n",
    "\n",
    "vcf_file = \"Data/aim_geno/panel_snps.txt\"\n",
    "vcf = open(vcf_file, 'r')\n",
    "\n",
    "# if the VCF is big, we van prevent flooding the memory by reading the file line by line\n",
    "go = True\n",
    "while go:\n",
    "    line = vcf.readline()\n",
    "#     line = line.decode('utf-8')\n",
    "    # this line contains the headers and also all the sample names\n",
    "    if line.startswith('#C'):\n",
    "        split_line = line.split('\\t')\n",
    "\n",
    "        samples = split_line[9:]\n",
    "        samples[-1] = samples[-1].strip('\\n')\n",
    "        break\n",
    "\n",
    "# sort samples on their ID\n",
    "samples = sorted(samples)\n",
    "# index the data frame on the sample names, this is convenient for merging later on\n",
    "samples_idx = pandas.DataFrame(index=samples)"
   ]
  },
  {
   "cell_type": "code",
   "execution_count": 3,
   "metadata": {},
   "outputs": [],
   "source": [
    "# ignore SettingWithCopyWarning errors\n",
    "pandas.options.mode.chained_assignment = None  # default='warn'\n",
    "# file containing all the sample labels (the population codes)\n",
    "popfile = \"Data/igsr_samples.tsv\"\n",
    "\n",
    "with open(popfile, 'r') as pop:\n",
    "    pop_df = pandas.read_csv(pop, sep='\\t', header=0)\n",
    "\n",
    "# select the sample names and population codes to make a new data frame\n",
    "pop_class = pop_df[['Sample name', 'Population code']]\n",
    "\n",
    "# select the sample names and superpopulation codes to make a new data frame\n",
    "superpop_class = pop_df[['Sample name','Superpopulation code']]\n",
    "\n",
    "# set the sample names as index of pandas dataframe \n",
    "superpop_class.set_index('Sample name', inplace=True)\n",
    "superpop_class.sort_index(inplace=True)\n",
    "\n",
    "# create a new data frame by merging the label information with the existing sample IDs\n",
    "feature_labels = samples_idx.join(superpop_class)"
   ]
  },
  {
   "cell_type": "code",
   "execution_count": 4,
   "metadata": {},
   "outputs": [
    {
     "name": "stdout",
     "output_type": "stream",
     "text": [
      "AFR    661\n",
      "EAS    504\n",
      "EUR    503\n",
      "SAS    489\n",
      "AMR    347\n",
      "Name: Superpopulation code, dtype: int64\n"
     ]
    }
   ],
   "source": [
    "# check how many samples per label are present in the data\n",
    "class_ratios = feature_labels['Superpopulation code'].value_counts()\n",
    "print(class_ratios)"
   ]
  },
  {
   "cell_type": "code",
   "execution_count": 5,
   "metadata": {},
   "outputs": [],
   "source": [
    "import numpy as np\n",
    "\n",
    "opened = open(vcf_file, 'r')\n",
    "\n",
    "samples = samples_idx\n",
    "\n",
    "cnt = 0\n",
    "line = True\n",
    "while line:\n",
    "    line = opened.readline()\n",
    "\n",
    "    if not line.startswith('#') and line.strip():\n",
    "        # extract the sample genotypes from the row\n",
    "        rs_id = line.split('\\t')[2]\n",
    "        alleles = line.split('\\t')[9:]\n",
    "        alleles[-1] = alleles[-1].strip('\\n')\n",
    "\n",
    "        # label missing data as NAN\n",
    "        alleles = [x if not '.' in x.split('|') else np.NAN for x in alleles]\n",
    "        \n",
    "        # put the genotype info in certain order, i.e. the phasing is disregarded\n",
    "        alleles = ['|'.join(sorted(x.split('|'))) for x in alleles if x is not np.NAN]\n",
    "        \n",
    "        # add the feature (SNP) to the existing data frame\n",
    "        samples[rs_id] = alleles\n",
    "\n",
    "        cnt += 1\n",
    "\n",
    "opened.close()\n",
    "\n",
    "# drop the columns (features) with NAN values\n",
    "samples.dropna(axis=0, thresh=1, how=\"any\", inplace=True)\n",
    "\n",
    "# covert the categorical data (e.g. 1|0, 1|2) to numerical by one-hot-encoding\n",
    "features_df = pandas.get_dummies(samples)"
   ]
  },
  {
   "cell_type": "code",
   "execution_count": 7,
   "metadata": {},
   "outputs": [],
   "source": [
    "from sklearn.ensemble import RandomForestClassifier\n",
    "\n",
    "features = np.array(features_df)\n",
    "labels = np.array(feature_labels).ravel()"
   ]
  },
  {
   "cell_type": "code",
   "execution_count": null,
   "metadata": {},
   "outputs": [],
   "source": [
    "# do hyperparameter tuning on with RandomForestClassifier on our data set\n",
    "\n",
    "param_grid = { \"criterion\" : [\"gini\", \"entropy\"], \"min_samples_leaf\" : [1, 5, 10, 25, 50, 70], \"min_samples_split\" : [2, 4, 10, 12, 16, 18, 25, 35], \"n_estimators\": [100, 400, 700, 1000, 1500]}\n",
    "param_grid = { \"criterion\" : [\"gini\", \"entropy\"] , \"min_samples_leaf\" : [1,20,25,50], \"min_samples_split\" : [2,12,25], \"n_estimators\": [500, 1000, 1500]}\n",
    "from sklearn.model_selection import GridSearchCV, cross_val_score\n",
    "\n",
    "# define random forest model\n",
    "rf = RandomForestClassifier(max_features='auto', oob_score=True, random_state=42, n_jobs=-1)\n",
    "# method to test out all the combinations of the parameters\n",
    "clf = GridSearchCV(estimator=rf, param_grid=param_grid, cv=3, n_jobs=-1, return_train_score=True)\n",
    "\n",
    "# fit the features and labels \n",
    "clf.fit(features, labels)\n",
    "# print the best parameters\n",
    "clf.best_params_"
   ]
  },
  {
   "cell_type": "code",
   "execution_count": 8,
   "metadata": {},
   "outputs": [],
   "source": [
    "#redefine model with optimal parameters\n",
    "rf = RandomForestClassifier(a=1000, criterion='gini', min_samples_leaf=1, min_samples_split=2, max_features='auto', oob_score=True, random_state=42, n_jobs=-1)"
   ]
  },
  {
   "cell_type": "code",
   "execution_count": 9,
   "metadata": {},
   "outputs": [
    {
     "name": "stdout",
     "output_type": "stream",
     "text": [
      "Baseline: 96.85% (1.09%)\n"
     ]
    }
   ],
   "source": [
    "from sklearn.model_selection import KFold\n",
    "from sklearn.model_selection import cross_val_score\n",
    "\n",
    "# use k-fold cross-validation to compute a robust score for the model\n",
    "# fix random seed for reproducibility\n",
    "seed = 8\n",
    "np.random.seed(seed)\n",
    "kfold = KFold(n_splits=10, shuffle=True, random_state=seed)\n",
    "results = cross_val_score(rf, features, labels, cv=kfold)\n",
    "print(\"Baseline: %.2f%% (%.2f%%)\" % (results.mean()*100, results.std()*100))"
   ]
  },
  {
   "cell_type": "code",
   "execution_count": 10,
   "metadata": {},
   "outputs": [
    {
     "name": "stdout",
     "output_type": "stream",
     "text": [
      "Training Features Shape: (1878, 492)\n",
      "Training Labels Shape: (1878,)\n",
      "Testing Features Shape: (626, 492)\n",
      "Testing Labels Shape: (626,)\n"
     ]
    }
   ],
   "source": [
    "# Use traditional train-test-split to compare with K-fold cross validation baseline and make classification report\n",
    "from sklearn.model_selection import train_test_split\n",
    "from sklearn.metrics import accuracy_score\n",
    "from sklearn.metrics import classification_report\n",
    "\n",
    "feature_list = features_df.columns\n",
    "\n",
    "# Split the data into training and testing sets\n",
    "train_features, test_features, train_labels, test_labels = train_test_split(features, labels, test_size=0.25,\n",
    "                                                                            random_state=42)\n",
    "# print dimensions to check if all is ok\n",
    "print('Training Features Shape:', train_features.shape)\n",
    "print('Training Labels Shape:', train_labels.shape)\n",
    "print('Testing Features Shape:', test_features.shape)\n",
    "print('Testing Labels Shape:', test_labels.shape)\n",
    "\n",
    "train_labels = train_labels.ravel()\n",
    "\n",
    "# Train the model on training data\n",
    "rf.fit(train_features, train_labels)\n",
    "\n",
    "# Use the forest's predict method on the test data\n",
    "predictions = rf.predict(test_features)"
   ]
  },
  {
   "cell_type": "code",
   "execution_count": 11,
   "metadata": {
    "scrolled": true
   },
   "outputs": [
    {
     "name": "stdout",
     "output_type": "stream",
     "text": [
      "accuracy: 0.9728\n",
      "score: 1.0\n",
      "              precision    recall  f1-score   support\n",
      "\n",
      "         AFR       0.99      0.98      0.99       168\n",
      "         AMR       0.96      0.84      0.90        88\n",
      "         EAS       1.00      1.00      1.00       137\n",
      "         EUR       0.93      1.00      0.96       117\n",
      "         SAS       0.97      1.00      0.98       116\n",
      "\n",
      "   micro avg       0.97      0.97      0.97       626\n",
      "   macro avg       0.97      0.96      0.97       626\n",
      "weighted avg       0.97      0.97      0.97       626\n",
      "\n"
     ]
    }
   ],
   "source": [
    "# print scores and classification report\n",
    "\n",
    "# change dimension of labels to compute accuracy\n",
    "test_labels = test_labels.ravel()\n",
    "accuracy = accuracy_score(test_labels, predictions)\n",
    "\n",
    "print('accuracy: {}'.format(round(accuracy, 4)))\n",
    "\n",
    "# print score ()\n",
    "score = rf.score(train_features, train_labels)\n",
    "print('score: {}'.format(score))\n",
    "\n",
    "# print classification report\n",
    "print(classification_report(test_labels, predictions))"
   ]
  },
  {
   "cell_type": "code",
   "execution_count": 27,
   "metadata": {},
   "outputs": [],
   "source": [
    "# Import tools needed for visualization\n",
    "import pydot\n",
    "from sklearn.tree import export_graphviz\n",
    "\n",
    "# Limit depth of tree to 3 levels\n",
    "rf_small = RandomForestClassifier(n_estimators=10, max_depth = 3)\n",
    "rf_small.fit(train_features, train_labels)\n",
    "\n",
    "# Extract the small tree\n",
    "tree_small = rf_small.estimators_[5]\n",
    "\n",
    "# Save the tree as a png image\n",
    "export_graphviz(tree_small, out_file = 'tree_viz/small_tree.dot', feature_names = feature_list, rounded = True, precision = 1)\n",
    "\n",
    "(graph, ) = pydot.graph_from_dot_file('tree_viz/small_tree.dot')\n",
    "\n",
    "graph.write_png('small_tree.png')"
   ]
  },
  {
   "cell_type": "code",
   "execution_count": 33,
   "metadata": {},
   "outputs": [],
   "source": [
    "# generate dataframe for feature importance\n",
    "# visualizes which SNPs may be exluded from the model to prevent overfitting (print with 165 to see top and bottom SNPs)\n",
    "# since these are one-hot-encoded, all the allele variants need to be in the be in the same ranking to determine if they can be discarded\n",
    "feature_importances = pandas.DataFrame(rf.feature_importances_,\n",
    "                                   index = feature_list,\n",
    "                                    columns=['importance']).sort_values('importance', ascending=False)\n",
    "\n",
    "# write out most important snps, check for duplicates (same snp, different allele variant)\n",
    "snps = feature_importances.index.values\n",
    "most_important = []\n",
    "\n",
    "for snp in snps:\n",
    "    snp = snp.split('_')[0]\n",
    "    if snp not in most_important:\n",
    "        most_important.append(snp)\n",
    "    if len(most_important) == 10:\n",
    "        break\n",
    "\n",
    "with open('important_snps.txt', 'w') as out:\n",
    "    out.write('\\n'.join(most_important))"
   ]
  },
  {
   "cell_type": "code",
   "execution_count": 23,
   "metadata": {},
   "outputs": [],
   "source": [
    "feat_imp = pandas.Series(feature_importances.importance)"
   ]
  },
  {
   "cell_type": "code",
   "execution_count": 29,
   "metadata": {},
   "outputs": [
    {
     "data": {
      "text/plain": [
       "[]"
      ]
     },
     "execution_count": 29,
     "metadata": {},
     "output_type": "execute_result"
    },
    {
     "data": {
      "image/png": "[encoded data removed]",
      "text/plain": [
       "<Figure size 432x288 with 1 Axes>"
      ]
     },
     "metadata": {},
     "output_type": "display_data"
    }
   ],
   "source": [
    "import seaborn as sns\n",
    "import matplotlib.pyplot as plt\n",
    "from scipy import stats\n",
    "\n",
    "sns.set(color_codes=True)\n",
    "x = np.random.normal(size=100)\n",
    "ax = sns.distplot(feat_imp, color='green')\n",
    "ax.set(xlabel='feature importance', ylabel='count', title='feature importance distribution')\n",
    "ax.plot()"
   ]
  },
  {
   "cell_type": "code",
   "execution_count": 29,
   "metadata": {},
   "outputs": [
    {
     "data": {
      "text/plain": [
       "<Figure size 432x288 with 0 Axes>"
      ]
     },
     "execution_count": 29,
     "metadata": {},
     "output_type": "execute_result"
    },
    {
     "data": {
      "image/png": "[encoded data removed]",
      "text/plain": [
       "<Figure size 432x288 with 2 Axes>"
      ]
     },
     "metadata": {
      "needs_background": "light"
     },
     "output_type": "display_data"
    },
    {
     "data": {
      "text/plain": [
       "<Figure size 432x288 with 0 Axes>"
      ]
     },
     "metadata": {},
     "output_type": "display_data"
    }
   ],
   "source": [
    "from sklearn.metrics import confusion_matrix\n",
    "from matplotlib import pyplot as plt\n",
    "import itertools\n",
    "# Compute confusion matrix\n",
    "cnf_matrix = confusion_matrix(test_labels, predictions)\n",
    "\n",
    "# borrowed function from sklearn documentation\n",
    "def plot_confusion_matrix(cm, classes,\n",
    "                          normalize=False,\n",
    "                          title='Confusion matrix',\n",
    "                          cmap=plt.cm.Blues):\n",
    "    \"\"\"\n",
    "    This function prints and plots the confusion matrix.\n",
    "    Normalization can be applied by setting `normalize=True`.\n",
    "    \"\"\"\n",
    "    if normalize:\n",
    "        cm = cm.astype('float') / cm.sum(axis=1)[:, np.newaxis]\n",
    "\n",
    "\n",
    "    plt.imshow(cm, interpolation='nearest', cmap=cmap)\n",
    "    plt.title(title)\n",
    "    plt.colorbar()\n",
    "    tick_marks = np.arange(len(classes))\n",
    "    plt.xticks(tick_marks, classes, rotation=45)\n",
    "    plt.yticks(tick_marks, classes)\n",
    "\n",
    "    fmt = '.2f' if normalize else 'd'\n",
    "    thresh = cm.max() / 2.\n",
    "    for i, j in itertools.product(range(cm.shape[0]), range(cm.shape[1])):\n",
    "        plt.text(j, i, format(cm[i, j], fmt),\n",
    "                 horizontalalignment=\"center\",\n",
    "                 color=\"white\" if cm[i, j] > thresh else \"black\")\n",
    "\n",
    "    plt.ylabel('True label')\n",
    "    plt.xlabel('Predicted label')\n",
    "    plt.tight_layout()\n",
    "    \n",
    "\n",
    "\n",
    "target_names = sorted(list(set(list(labels.ravel()))))\n",
    "plot_confusion_matrix(cnf_matrix, classes=target_names,\n",
    "                      title='Confusion matrix for ancestry prediction')\n",
    "plt.figure()"
   ]
  }
 ],
 "metadata": {
  "kernelspec": {
   "display_name": "Python 3",
   "language": "python",
   "name": "python3"
  },
  "language_info": {
   "codemirror_mode": {
    "name": "ipython",
    "version": 3
   },
   "file_extension": ".py",
   "mimetype": "text/x-python",
   "name": "python",
   "nbconvert_exporter": "python",
   "pygments_lexer": "ipython3",
   "version": "3.7.1"
  }
 },
 "nbformat": 4,
 "nbformat_minor": 2
}
