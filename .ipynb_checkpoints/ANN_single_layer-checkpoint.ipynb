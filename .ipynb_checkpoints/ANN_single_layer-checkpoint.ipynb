{
 "cells": [
  {
   "cell_type": "markdown",
   "metadata": {},
   "source": [
    "## Project\n",
    "With this project we aim to implement two data mining methods to predict ancestry based on SNPs (Single Nucleotide Polymorphisms). The selection of SNPs to use are based on certain SNP sets from existing research, these are typically called AIM (Acestry Informative Markers).\n",
    "The second method we implement is a neural network: a baseline model with one hidden layer.\n",
    "\n",
    "## Data\n",
    "See the AIM_random_forest iPython file for eloboration on the data and preprocessing thereof. <br>\n",
    "\n",
    "### Results\n",
    "\n",
    "The Neural Network performes with a baseline score of 98.92% (10k-fold cross validation) <br>\n",
    "Other scores can be found below (see classification report) <br><br>"
   ]
  },
  {
   "cell_type": "code",
   "execution_count": 29,
   "metadata": {},
   "outputs": [],
   "source": [
    "import gzip\n",
    "import pandas\n",
    "import numpy as np\n",
    "\n",
    "vcf_file = \"Data/aim_geno/panel_snps.txt\"\n",
    "vcf = open(vcf_file, 'r')\n",
    "\n",
    "# if the VCF is big, we van prevent flooding the memory by reading the file line by line\n",
    "go = True\n",
    "while go:\n",
    "    line = vcf.readline()\n",
    "    # this line contains the headers and also all the sample names\n",
    "    if line.startswith('#C'):\n",
    "        split_line = line.split('\\t')\n",
    "\n",
    "        samples = split_line[9:]\n",
    "        samples[-1] = samples[-1].strip('\\n')\n",
    "        break\n",
    "\n",
    "# sort samples on their ID\n",
    "samples = sorted(samples)\n",
    "# index the data frame on the sample names, this is convenient for merging later on\n",
    "samples_idx = pandas.DataFrame(index=samples)"
   ]
  },
  {
   "cell_type": "code",
   "execution_count": 30,
   "metadata": {},
   "outputs": [
    {
     "name": "stdout",
     "output_type": "stream",
     "text": [
      "AFR    661\n",
      "EAS    504\n",
      "EUR    503\n",
      "SAS    489\n",
      "AMR    347\n",
      "Name: Superpopulation code, dtype: int64\n"
     ]
    }
   ],
   "source": [
    "# ignore SettingWithCopyWarning warnings\n",
    "pandas.options.mode.chained_assignment = None  # default='warn'\n",
    "# file containing all the sample labels (the population codes)\n",
    "popfile = \"Data/igsr_samples.tsv\"\n",
    "\n",
    "with open(popfile, 'r') as pop:\n",
    "    pop_df = pandas.read_csv(pop, sep='\\t', header=0)\n",
    "\n",
    "# select the sample names and population codes to make a new data frame\n",
    "pop_class = pop_df[['Sample name', 'Population code']]\n",
    "\n",
    "# select the sample names and superpopulation codes to make a new data frame\n",
    "superpop_class = pop_df[['Sample name','Superpopulation code']]\n",
    "\n",
    "# set the sample names as index of pandas dataframe \n",
    "superpop_class.set_index('Sample name', inplace=True)\n",
    "superpop_class.sort_index(inplace=True)\n",
    "\n",
    "# create a new data frame by merging the label information with the existing sample IDs\n",
    "feature_labels = samples_idx.join(superpop_class)\n",
    "\n",
    "population_ratio = feature_labels['Superpopulation code'].value_counts()\n",
    "print(population_ratio)"
   ]
  },
  {
   "cell_type": "code",
   "execution_count": 31,
   "metadata": {},
   "outputs": [],
   "source": [
    "opened = open(vcf_file, 'r')\n",
    "\n",
    "samples = samples_idx\n",
    "\n",
    "cnt = 0\n",
    "line = True\n",
    "while line:\n",
    "    line = opened.readline()\n",
    "\n",
    "    if not line.startswith('#') and line.strip():\n",
    "        # extract the sample genotypes from the row\n",
    "        rs_id = line.split('\\t')[2]\n",
    "        alleles = line.split('\\t')[9:]\n",
    "        alleles[-1] = alleles[-1].strip('\\n')\n",
    "\n",
    "        # label missing data as NAN\n",
    "        alleles = [x if not '.' in x.split('|') else np.NAN for x in alleles]\n",
    "\n",
    "        # put the genotype info in certain order, i.e. the phasing is disregarded\n",
    "        alleles = ['|'.join(sorted(x.split('|'))) for x in alleles if x is not np.NAN]\n",
    "\n",
    "        # add the feature (SNP) to the existing data frame\n",
    "        samples[rs_id] = alleles\n",
    "\n",
    "        cnt += 1\n",
    "\n",
    "opened.close()\n",
    "\n",
    "# drop the columns (features) with NAN values\n",
    "samples.dropna(axis=0, thresh=1, how=\"any\", inplace=True)\n",
    "\n",
    "# covert the categorical data (e.g. 1|0, 1|2) to numerical by one-hot-encoding\n",
    "features_df = pandas.get_dummies(samples)\n",
    "\n",
    "feature_list = features_df.columns\n",
    "features = np.array(features_df)"
   ]
  },
  {
   "cell_type": "code",
   "execution_count": 32,
   "metadata": {},
   "outputs": [],
   "source": [
    "from keras.models import Sequential\n",
    "from keras.layers import Dense\n",
    "from keras.wrappers.scikit_learn import KerasClassifier\n",
    "from keras.utils import np_utils\n",
    "from sklearn.model_selection import cross_val_score\n",
    "from sklearn.model_selection import KFold\n",
    "from sklearn.preprocessing import LabelEncoder\n",
    "from sklearn.pipeline import Pipeline\n",
    "from tensorflow import logging\n",
    "\n",
    "logging.set_verbosity(logging.ERROR)"
   ]
  },
  {
   "cell_type": "code",
   "execution_count": 33,
   "metadata": {},
   "outputs": [],
   "source": [
    "from keras.utils import to_categorical\n",
    "\n",
    "X = features\n",
    "Y = labels = np.array(feature_labels).ravel()\n",
    "\n",
    "# encode class values as integers\n",
    "encoder = LabelEncoder()\n",
    "encoder.fit(Y)\n",
    "encoded_Y = encoder.transform(Y)\n",
    "# convert integers to dummy variables (i.e. one hot encoded)\n",
    "dummy_y = np_utils.to_categorical(encoded_Y)"
   ]
  },
  {
   "cell_type": "code",
   "execution_count": 34,
   "metadata": {},
   "outputs": [],
   "source": [
    "# define neural network model\n",
    "\n",
    "# first layer size\n",
    "num_of_feat = X.shape[1]\n",
    "layer_size = 100\n",
    "# second layer size\n",
    "num_of_labs = dummy_y.shape[1]\n",
    "\n",
    "def sequential_model():\n",
    "    # create model\n",
    "    model = Sequential()\n",
    "    # set layer sizes, input dimension and activation function\n",
    "    model.add(Dense(layer_size, input_dim=num_of_feat, activation='relu'))\n",
    "    # set number of labels for output layer and set softmax activation\n",
    "    model.add(Dense(num_of_labs, activation='softmax'))\n",
    "    model.compile(loss='categorical_crossentropy', optimizer='adam', metrics=['accuracy'])\n",
    "    return model"
   ]
  },
  {
   "cell_type": "code",
   "execution_count": 35,
   "metadata": {},
   "outputs": [],
   "source": [
    "# define classifier \n",
    "estimator = KerasClassifier(build_fn=sequential_model, epochs=200, batch_size=5, verbose=0)"
   ]
  },
  {
   "cell_type": "code",
   "execution_count": 36,
   "metadata": {},
   "outputs": [
    {
     "name": "stdout",
     "output_type": "stream",
     "text": [
      "Baseline: 98.92% (0.54%)\n"
     ]
    }
   ],
   "source": [
    "# use k-fold cross-validation to compute a robust score for the model\n",
    "# fix random seed for reproducibility\n",
    "seed = 42\n",
    "np.random.seed(seed)\n",
    "kfold = KFold(n_splits=10, shuffle=True, random_state=seed)\n",
    "results = cross_val_score(estimator, X, dummy_y, cv=kfold)\n",
    "print(\"Baseline: %.2f%% (%.2f%%)\" % (results.mean()*100, results.std()*100))"
   ]
  },
  {
   "cell_type": "code",
   "execution_count": 37,
   "metadata": {},
   "outputs": [],
   "source": [
    "# Train and test without cross validation to compare with baseline and make classification report\n",
    "from sklearn.model_selection import train_test_split\n",
    "from sklearn.metrics import accuracy_score\n",
    "from sklearn.metrics import classification_report\n",
    "\n",
    "# Split the data into training and testing sets\n",
    "train_features, test_features, train_labels, test_labels = train_test_split(X, dummy_y, test_size=0.25,\n",
    "                                                                            random_state=42)\n",
    "# train the estimator with train set\n",
    "estimator.fit(train_features, train_labels)\n",
    "\n",
    "# Use the model's predict method to predict the labels from test set\n",
    "predictions = estimator.predict(test_features)\n",
    "testers = test_labels\n",
    "# convert the one-hot-encoded labels back to one column by selecting the max column\n",
    "test_labels = np.argmax(test_labels, axis=1)"
   ]
  },
  {
   "cell_type": "code",
   "execution_count": 26,
   "metadata": {},
   "outputs": [
    {
     "name": "stdout",
     "output_type": "stream",
     "text": [
      "accuracy: 0.9872\n",
      "score: 1.0\n",
      "              precision    recall  f1-score   support\n",
      "\n",
      "         AFR       0.99      0.98      0.99       168\n",
      "         AMR       0.97      0.95      0.96        88\n",
      "         EAS       1.00      1.00      1.00       137\n",
      "         EUR       0.97      1.00      0.99       117\n",
      "         SAS       0.99      0.99      0.99       116\n",
      "\n",
      "   micro avg       0.99      0.99      0.99       626\n",
      "   macro avg       0.99      0.99      0.99       626\n",
      "weighted avg       0.99      0.99      0.99       626\n",
      "\n"
     ]
    }
   ],
   "source": [
    "# print scores and classification report\n",
    "accuracy = accuracy_score(test_labels, predictions)\n",
    "\n",
    "print('accuracy: {}'.format(round(accuracy, 4)))\n",
    "\n",
    "score = estimator.score(train_features, train_labels)\n",
    "\n",
    "print('score: {}'.format(score))\n",
    "\n",
    "# sort target labels so they correspond with the predicted labels and scores\n",
    "targets = sorted(list(set(list(Y))))\n",
    "\n",
    "print(classification_report(test_labels, predictions, target_names=targets))"
   ]
  },
  {
   "cell_type": "code",
   "execution_count": 28,
   "metadata": {},
   "outputs": [
    {
     "data": {
      "image/png": "[encoded data removed]",
      "text/plain": [
       "<Figure size 432x288 with 2 Axes>"
      ]
     },
     "metadata": {
      "needs_background": "light"
     },
     "output_type": "display_data"
    }
   ],
   "source": [
    "from sklearn.metrics import confusion_matrix\n",
    "from matplotlib import pyplot as plt\n",
    "import numpy as np\n",
    "import itertools\n",
    "\n",
    "# Compute confusion matrix\n",
    "cnf_matrix = confusion_matrix(test_labels, predictions)\n",
    "\n",
    "# plot confusion matrix with labels \n",
    "# borrowed function from sklearn documentation\n",
    "def plot_confusion_matrix(cm, classes,\n",
    "                          normalize=False,\n",
    "                          title='Confusion matrix',\n",
    "                          cmap=plt.cm.Blues):\n",
    "    \"\"\"\n",
    "    This function prints and plots the confusion matrix.\n",
    "    Normalization can be applied by setting `normalize=True`.\n",
    "    \"\"\"\n",
    "    if normalize:\n",
    "        cm = cm.astype('float') / cm.sum(axis=1)[:, np.newaxis]\n",
    "\n",
    "\n",
    "    plt.imshow(cm, interpolation='nearest', cmap=cmap)\n",
    "    plt.title(title)\n",
    "    plt.colorbar()\n",
    "    tick_marks = np.arange(len(classes))\n",
    "    plt.xticks(tick_marks, classes, rotation=45)\n",
    "    plt.yticks(tick_marks, classes)\n",
    "\n",
    "    fmt = '.2f' if normalize else 'd'\n",
    "    thresh = cm.max() / 2.\n",
    "    for i, j in itertools.product(range(cm.shape[0]), range(cm.shape[1])):\n",
    "        plt.text(j, i, format(cm[i, j], fmt),\n",
    "                 horizontalalignment=\"center\",\n",
    "                 color=\"white\" if cm[i, j] > thresh else \"black\")\n",
    "\n",
    "    plt.ylabel('True label')\n",
    "    plt.xlabel('Predicted label')\n",
    "    plt.tight_layout()\n",
    "\n",
    "\n",
    "# Plot non-normalized confusion matrix\n",
    "plot_confusion_matrix(cnf_matrix, classes=targets,\n",
    "                      title='Confusion matrix for ancestry prediction')\n",
    "plt.figure()"
   ]
  }
 ],
 "metadata": {
  "kernelspec": {
   "display_name": "Python 3",
   "language": "python",
   "name": "python3"
  },
  "language_info": {
   "codemirror_mode": {
    "name": "ipython",
    "version": 3
   },
   "file_extension": ".py",
   "mimetype": "text/x-python",
   "name": "python",
   "nbconvert_exporter": "python",
   "pygments_lexer": "ipython3",
   "version": "3.7.1"
  }
 },
 "nbformat": 4,
 "nbformat_minor": 2
}
