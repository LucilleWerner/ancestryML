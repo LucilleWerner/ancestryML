{
 "cells": [
  {
   "cell_type": "code",
   "execution_count": 25,
   "metadata": {},
   "outputs": [
    {
     "name": "stdout",
     "output_type": "stream",
     "text": [
      "nothing found for rs4833103\n"
     ]
    }
   ],
   "source": [
    "import requests as reqs\n",
    "import simplejson as json\n",
    "# snps = ['rs123', 'rs1278']\n",
    "feats = open('/home/sevvy/Projects/ancestry_ml/important_snps.txt', 'r').read().splitlines()\n",
    "snps = [x.strip() for x in feats]\n",
    "snps\n",
    "ids = [] \n",
    "passed_snps = []\n",
    "base_url = \"https://api.ncbi.nlm.nih.gov/variation/v0/beta/refsnp/\"\n",
    "for snp in snps:\n",
    "    req = reqs.get(base_url+snp.strip('rs'))\n",
    "    content = json.loads(req.content)\n",
    "    if content:\n",
    "        try:\n",
    "            gene_info = content['primary_snapshot_data']['allele_annotations'][0]['assembly_annotation'][0]['genes'][0]\n",
    "            name = gene_info['name']\n",
    "            gene_id = gene_info['id']\n",
    "            locus = gene_info['locus']\n",
    "            ids.append(gene_id)\n",
    "            passed_snps.append(snp)\n",
    "        except:\n",
    "            print('nothing found for {}'.format(snp))\n",
    "            continue\n",
    "    else:\n",
    "        print('nothing for {}'.format(snp))"
   ]
  },
  {
   "cell_type": "code",
   "execution_count": 19,
   "metadata": {},
   "outputs": [
    {
     "name": "stdout",
     "output_type": "stream",
     "text": [
      "['rs16891982', 'rs3827760', 'rs1800414', 'rs2814778', 'rs1871534', 'rs1229984', 'rs1426654', 'rs3811801', 'rs12913832']\n",
      "['51151', '5903', '4948', '2532', '55630', '125', '50804', '125', '8924']\n"
     ]
    }
   ],
   "source": [
    "ids = [str(i) for i in ids]\n",
    "print(passed_snps)\n",
    "print(ids)"
   ]
  },
  {
   "cell_type": "code",
   "execution_count": 23,
   "metadata": {},
   "outputs": [],
   "source": [
    "uniprot_url = 'https://www.uniprot.org/uploadlists/'\n",
    "\n",
    "payload = {\n",
    "'from':'P_ENTREZGENEID',\n",
    "'to':'ACC',\n",
    "'format':'tab',\n",
    "'query':[]\n",
    "}\n",
    "\n",
    "payload['query'] = ' '.join(ids)\n",
    "req = reqs.get(uniprot_url, params=payload)\n"
   ]
  },
  {
   "cell_type": "code",
   "execution_count": 24,
   "metadata": {},
   "outputs": [
    {
     "name": "stdout",
     "output_type": "stream",
     "text": [
      "yourlist:M20190330E5A08BB0B2D1C45B0C7BC3B55FD2655607508CI\tEntry\tEntry name\tStatus\tProtein names\tGene names\tOrganism\tLength\n",
      "51151\tA0A076YGN1\tA0A076YGN1_HUMAN\tunreviewed\tSLC45A2\tSLC45A2\tHomo sapiens (Human)\t530\n",
      "51151\tA0A076YIB8\tA0A076YIB8_HUMAN\tunreviewed\tSLC45A2 (Solute carrier family 45, member 2, isoform CRA_a)\tSLC45A2 hCG_37411\tHomo sapiens (Human)\t530\n",
      "51151\tD6RGY6\tD6RGY6_HUMAN\tunreviewed\tMembrane-associated transporter protein\tSLC45A2\tHomo sapiens (Human)\t243\n",
      "51151\tQ9UMX9\tS45A2_HUMAN\treviewed\tMembrane-associated transporter protein (Melanoma antigen AIM1) (Protein AIM-1) (Solute carrier family 45 member 2)\tSLC45A2 AIM1 MATP\tHomo sapiens (Human)\t530\n",
      "5903\tP49792\tRBP2_HUMAN\treviewed\tE3 SUMO-protein ligase RanBP2 (EC 2.3.2.-) (358 kDa nucleoporin) (Nuclear pore complex protein Nup358) (Nucleoporin Nup358) (Ran-binding protein 2) (RanBP2) (p270)\tRANBP2 NUP358\tHomo sapiens (Human)\t3224\n",
      "4948\tQ04671\tP_HUMAN\treviewed\tP protein (Melanocyte-specific transporter protein) (Pink-eyed dilution protein homolog)\tOCA2 D15S12 P\tHomo sapiens (Human)\t838\n",
      "2532\tQ16570\tACKR1_HUMAN\treviewed\tAtypical chemokine receptor 1 (Duffy antigen/chemokine receptor) (Fy glycoprotein) (GpFy) (Glycoprotein D) (Plasmodium vivax receptor) (CD antigen CD234)\tACKR1 DARC FY GPD\tHomo sapiens (Human)\t336\n",
      "2532\tQ5Y7A1\tQ5Y7A1_HUMAN\tunreviewed\tDuffy antigen/chemokine receptor isoform a (Duffy blood group)\tFY DARC\tHomo sapiens (Human)\t338\n",
      "2532\tQ5Y7A2\tQ5Y7A2_HUMAN\tunreviewed\tDuffy antigen/atypical chemokine receptor (Duffy antigen/chemokine receptor isoform b) (Duffy blood group) (cDNA FLJ75122, highly similar to Homo sapiens Duffy blood group, chemokine receptor, mRNA)\tFY DARC\tHomo sapiens (Human)\t336\n",
      "55630\tQ6P5W5\tS39A4_HUMAN\treviewed\tZinc transporter ZIP4 (Solute carrier family 39 member 4) (Zrt- and Irt-like protein 4) (ZIP-4)\tSLC39A4 ZIP4\tHomo sapiens (Human)\t647\n",
      "55630\tQ9NX22\tQ9NX22_HUMAN\tunreviewed\tcDNA FLJ20482 fis, clone KAT07592\t\tHomo sapiens (Human)\t149\n",
      "125\tD6RHZ6\tD6RHZ6_HUMAN\tunreviewed\tAlcohol dehydrogenase 1B\tADH1B\tHomo sapiens (Human)\t335\n",
      "125\tP00325\tADH1B_HUMAN\treviewed\tAlcohol dehydrogenase 1B (EC 1.1.1.1) (Alcohol dehydrogenase subunit beta)\tADH1B ADH2\tHomo sapiens (Human)\t375\n",
      "125\tV9HW50\tV9HW50_HUMAN\tunreviewed\tAlcohol dehydrogenase 1B (Epididymis secretory protein Li 117)\tADH1B HEL-S-117\tHomo sapiens (Human)\t375\n",
      "50804\tA0A024R5Q6\tA0A024R5Q6_HUMAN\tunreviewed\tMyelin expression factor 2, isoform CRA_c\tMYEF2 hCG_40072\tHomo sapiens (Human)\t440\n",
      "50804\tQ9P2K5\tMYEF2_HUMAN\treviewed\tMyelin expression factor 2 (MEF-2) (MyEF-2) (MST156)\tMYEF2 KIAA1341\tHomo sapiens (Human)\t600\n",
      "8924\tA8KAQ8\tA8KAQ8_HUMAN\tunreviewed\tHERC2 protein (Fragment)\tHERC2\tHomo sapiens (Human)\t703\n",
      "8924\tO95714\tHERC2_HUMAN\treviewed\tE3 ubiquitin-protein ligase HERC2 (EC 2.3.2.26) (HECT domain and RCC1-like domain-containing protein 2) (HECT-type E3 ubiquitin transferase HERC2)\tHERC2\tHomo sapiens (Human)\t4834\n",
      "\n"
     ]
    }
   ],
   "source": [
    "text = req.text\n",
    "print(text)\n",
    "text.splitlines()\n",
    "\n",
    "uni_ids = [x.split('\\t')[1] for x in text.splitlines()[1:]]"
   ]
  },
  {
   "cell_type": "code",
   "execution_count": 7,
   "metadata": {},
   "outputs": [
    {
     "name": "stdout",
     "output_type": "stream",
     "text": [
      "['Q9H4L5', 'P23497', 'Q6ZMK3']\n"
     ]
    }
   ],
   "source": [
    "print(uni_ids)"
   ]
  },
  {
   "cell_type": "code",
   "execution_count": 10,
   "metadata": {},
   "outputs": [],
   "source": [
    "query = \"https://www.uniprot.org/uniprot/?query=id:{}&format=tab&columns=id,protein names,comments\"\n",
    "\n",
    "uni_results =[]\n",
    "for uni in uni_ids:\n",
    "    req = reqs.get(query.format(uni))\n",
    "    uni_results.append(req.text)\n",
    "    "
   ]
  },
  {
   "cell_type": "code",
   "execution_count": 11,
   "metadata": {},
   "outputs": [
    {
     "name": "stdout",
     "output_type": "stream",
     "text": [
      "['Entry\\tProtein names\\tComments\\nQ9H4L5\\tOxysterol-binding protein-related protein 3 (ORP-3) (OSBP-related protein 3)\\tAlternative products (1); Caution (4); Developmental stage (1); Domain (2); Function (1); Post-translational modification (1); Sequence similarities (1); Subcellular location (1); Subunit structure (1); Tissue specificity (1)\\n', 'Entry\\tProtein names\\tComments\\nP23497\\tNuclear autoantigen Sp-100 (Nuclear dot-associated Sp100 protein) (Speckled 100 kDa)\\tAlternative products (1); Caution (3); Domain (2); Function (1); Induction (1); Miscellaneous (1); Post-translational modification (2); Subcellular location (2); Subunit structure (3); Tissue specificity (1)\\n', 'Entry\\tProtein names\\tComments\\nQ6ZMK3\\tFLJ00340 protein (Fragment)\\t\\n']\n"
     ]
    }
   ],
   "source": [
    "print(uni_results)"
   ]
  },
  {
   "cell_type": "code",
   "execution_count": null,
   "metadata": {},
   "outputs": [],
   "source": []
  }
 ],
 "metadata": {
  "kernelspec": {
   "display_name": "Python 3",
   "language": "python",
   "name": "python3"
  },
  "language_info": {
   "codemirror_mode": {
    "name": "ipython",
    "version": 3
   },
   "file_extension": ".py",
   "mimetype": "text/x-python",
   "name": "python",
   "nbconvert_exporter": "python",
   "pygments_lexer": "ipython3",
   "version": "3.7.1"
  }
 },
 "nbformat": 4,
 "nbformat_minor": 2
}
